{
 "cells": [
  {
   "cell_type": "code",
   "execution_count": 172,
   "metadata": {},
   "outputs": [],
   "source": [
    "from sklearn.datasets import load_wine\n",
    "from sklearn.model_selection import train_test_split\n",
    "from sklearn.preprocessing import KBinsDiscretizer, LabelEncoder\n",
    "import pandas as pd"
   ]
  },
  {
   "cell_type": "code",
   "execution_count": 173,
   "metadata": {},
   "outputs": [],
   "source": [
    "import numpy as np\n",
    "import pandas as pd\n",
    "from matplotlib import pyplot as plt\n",
    "from matplotlib.gridspec import GridSpec\n",
    "from itertools import chain, combinations\n",
    "\n",
    "from sklearn.model_selection import train_test_split\n",
    "from sklearn.naive_bayes import GaussianNB, CategoricalNB\n",
    "from sklearn.preprocessing import KBinsDiscretizer, LabelEncoder, StandardScaler\n",
    "from sklearn.datasets import make_blobs, load_wine\n",
    "\n",
    "from data_functions import load_data\n",
    "from error_probs_model import ErrorProbsModel\n",
    "\n",
    "from numpy.random import default_rng\n",
    "rng = default_rng(12345)"
   ]
  },
  {
   "cell_type": "code",
   "execution_count": 58,
   "metadata": {},
   "outputs": [],
   "source": [
    "data_set_names = pd.read_csv('./data/data_set_ids.csv').name.values"
   ]
  },
  {
   "cell_type": "code",
   "execution_count": 59,
   "metadata": {},
   "outputs": [
    {
     "data": {
      "text/plain": [
       "array(['breast-cancer-wisconsin', 'blood-transfusion',\n",
       "       'pima-indians-diabetes', 'ionosphere', 'sonar', 'biodegradation',\n",
       "       'vehicle', 'ecoli', 'glass', 'vertebra-column', 'user-knowledge',\n",
       "       'kc2', 'parkinsons', 'banknote', 'seeds', 'prnn-craps',\n",
       "       'chscase-vine', 'wine', 'iris', 'segment', 'balance-scale',\n",
       "       'seismic-bumps', 'steel-plates-fault', 'phoneme', 'satimage',\n",
       "       'wind'], dtype=object)"
      ]
     },
     "execution_count": 59,
     "metadata": {},
     "output_type": "execute_result"
    }
   ],
   "source": [
    "data_set_names"
   ]
  },
  {
   "cell_type": "code",
   "execution_count": 60,
   "metadata": {},
   "outputs": [
    {
     "name": "stdout",
     "output_type": "stream",
     "text": [
      "breast-cancer-wisconsin\n",
      "Accuracy: 0.9517543859649122\n",
      "blood-transfusion\n",
      "Accuracy: 0.74\n",
      "pima-indians-diabetes\n",
      "Accuracy: 0.7597402597402597\n",
      "ionosphere\n",
      "Accuracy: 0.9148936170212766\n",
      "sonar\n",
      "Accuracy: 0.7976190476190477\n",
      "biodegradation\n",
      "Accuracy: 0.7464454976303317\n",
      "vehicle\n",
      "Accuracy: 0.415929203539823\n",
      "ecoli\n",
      "Accuracy: 0.762962962962963\n",
      "glass\n",
      "Accuracy: 0.37209302325581395\n",
      "vertebra-column\n",
      "Accuracy: 0.7741935483870968\n",
      "user-knowledge\n",
      "Accuracy: 0.8580246913580247\n",
      "kc2\n",
      "Accuracy: 0.8277511961722488\n",
      "parkinsons\n",
      "Accuracy: 0.7307692307692307\n",
      "banknote\n",
      "Accuracy: 0.848816029143898\n",
      "seeds\n",
      "Accuracy: 0.9047619047619048\n",
      "prnn-craps\n",
      "Accuracy: 0.6125\n",
      "chscase-vine\n",
      "Accuracy: 0.7180851063829787\n",
      "wine\n",
      "Accuracy: 1.0\n",
      "iris\n",
      "Accuracy: 0.9666666666666667\n",
      "segment\n",
      "Accuracy: 0.775974025974026\n",
      "balance-scale\n",
      "Accuracy: 0.868\n",
      "seismic-bumps\n",
      "Accuracy: 0.9047619047619048\n",
      "steel-plates-fault\n",
      "Accuracy: 0.5083655083655083\n",
      "phoneme\n",
      "Accuracy: 0.7511563367252544\n",
      "satimage\n",
      "Accuracy: 0.8055987558320373\n",
      "wind\n",
      "Accuracy: 0.8068441064638783\n"
     ]
    },
    {
     "name": "stderr",
     "output_type": "stream",
     "text": [
      "/home/nico/lmu/active_learning/multi_annotator/data_functions.py:64: SettingWithCopyWarning: \n",
      "A value is trying to be set on a copy of a slice from a DataFrame.\n",
      "Try using .loc[row_indexer,col_indexer] = value instead\n",
      "\n",
      "See the caveats in the documentation: https://pandas.pydata.org/pandas-docs/stable/user_guide/indexing.html#returning-a-view-versus-a-copy\n",
      "  X[col] = LabelEncoder().fit_transform(X[col])\n"
     ]
    }
   ],
   "source": [
    "for name in data_set_names:\n",
    "\tprint(name)\n",
    "\tX, y, _ = load_data(name)\n",
    "\tX_train, X_test, y_train, y_test = train_test_split(X, y, test_size=0.4, random_state=42)\n",
    "\n",
    "\tmodel = GaussianNB()\n",
    "\tmodel.fit(X_train, y_train)\n",
    "\n",
    "\ty_pred = model.predict(X_test).round(3)\n",
    "\taccuracy = np.sum(y_test == y_pred) / len(y_pred)\n",
    "\n",
    "\tprint(f'Accuracy: {accuracy}')"
   ]
  },
  {
   "cell_type": "code",
   "execution_count": 65,
   "metadata": {},
   "outputs": [
    {
     "data": {
      "text/plain": [
       "(2630, 2)"
      ]
     },
     "execution_count": 65,
     "metadata": {},
     "output_type": "execute_result"
    }
   ],
   "source": [
    "p = model.predict_proba(X_test)\n",
    "p.shape"
   ]
  },
  {
   "cell_type": "code",
   "execution_count": 74,
   "metadata": {},
   "outputs": [
    {
     "data": {
      "text/plain": [
       "-1.0"
      ]
     },
     "execution_count": 74,
     "metadata": {},
     "output_type": "execute_result"
    }
   ],
   "source": [
    "np.min(np.diff(p, axis=1))"
   ]
  },
  {
   "cell_type": "code",
   "execution_count": 8,
   "metadata": {},
   "outputs": [
    {
     "data": {
      "text/plain": [
       "pandas.core.frame.DataFrame"
      ]
     },
     "execution_count": 8,
     "metadata": {},
     "output_type": "execute_result"
    }
   ],
   "source": [
    "type(X)"
   ]
  },
  {
   "cell_type": "code",
   "execution_count": 85,
   "metadata": {},
   "outputs": [],
   "source": [
    "def eval_classifier(classifier, X_test, y_test):\n",
    "\t\n",
    "\ty_pred = classifier.predict(X_test)\n",
    "\taccuracy = np.sum(y_pred == y_test) / len(y_test)\n",
    "\n",
    "\treturn accuracy\n",
    "\n"
   ]
  },
  {
   "cell_type": "code",
   "execution_count": 117,
   "metadata": {},
   "outputs": [],
   "source": [
    "X, y, _ = load_data('pima-indians-diabetes')\n",
    "X_train, X_test, y_train, y_test = train_test_split(X, y, test_size=0.4, random_state=42)\n",
    "\n",
    "# Standardize\n",
    "scaler = StandardScaler().fit(X_train)\n",
    "X_train = scaler.transform(X_train)\n",
    "X_test = scaler.transform(X_test)"
   ]
  },
  {
   "cell_type": "code",
   "execution_count": 155,
   "metadata": {},
   "outputs": [
    {
     "data": {
      "text/plain": [
       "type"
      ]
     },
     "execution_count": 155,
     "metadata": {},
     "output_type": "execute_result"
    }
   ],
   "source": [
    "len(X_test) // 5*2"
   ]
  },
  {
   "cell_type": "code",
   "execution_count": null,
   "metadata": {},
   "outputs": [],
   "source": [
    "def load_simulated_dataset(data_set_name, sim_type = 'o'):\n",
    "\tname = f'{data_set_name}-simulated-{sim_type}'\n",
    "\tpass"
   ]
  },
  {
   "cell_type": "code",
   "execution_count": 158,
   "metadata": {},
   "outputs": [],
   "source": [
    "X, y_true, y = load_data('sonar-simulated-o')"
   ]
  },
  {
   "cell_type": "code",
   "execution_count": 163,
   "metadata": {},
   "outputs": [
    {
     "data": {
      "text/plain": [
       "array([0.8, 0.6, 0.8, 1. , 0.2, 0.8, 0.8, 0.4, 0.8, 0.8, 0.8, 0.8, 0.6,\n",
       "       0.6, 0.4, 0.4, 0.8, 1. , 0.8, 1. , 1. , 1. , 0.8, 0.8, 1. , 0.6,\n",
       "       0.6, 1. , 0.8, 0.8, 0.6, 0.6, 1. , 0.8, 0.8, 0.6, 0.6, 1. , 1. ,\n",
       "       0.8, 1. , 0.8, 1. , 0.6, 1. , 0.8, 0.4, 0.8, 0.6, 0.8, 1. , 0.8,\n",
       "       0.8, 1. , 0.8, 0.8, 1. , 1. , 0.8, 0.8, 0.8, 0.8, 0.6, 1. , 0.6,\n",
       "       0.8, 0.8, 0.6, 0.8, 0.8, 0.6, 0.6, 0.6, 0.6, 0.8, 0.6, 0.4, 0.4,\n",
       "       0.8, 0.8, 1. , 0.8, 0.6, 0.4, 0.4, 0.6, 0.4, 0.6, 0.6, 0.8, 0.8,\n",
       "       0.8, 1. , 0.4, 0.4, 0.4, 0.4, 0.2, 0. , 0.4, 0.4, 0.2, 0.6, 0.2,\n",
       "       0. , 0.6, 0.2, 0.4, 0.8, 0.2, 0.4, 0.2, 0.2, 0.2, 0.2, 0.4, 0.2,\n",
       "       0.2, 0.2, 0. , 0. , 0. , 0.4, 0.4, 0.4, 0. , 0.2, 0. , 0.4, 0. ,\n",
       "       0.4, 0.2, 0.2, 0.2, 0.4, 0.4, 0.4, 0.2, 0. , 0.4, 0.2, 0.2, 0.2,\n",
       "       0. , 0.2, 0.4, 0.4, 0.4, 0.4, 0.4, 0.4, 0.2, 0. , 0. , 0.4, 0.6,\n",
       "       0.2, 0.2, 0.4, 0.4, 0. , 0.4, 0.2, 0.4, 0.4, 0.2, 0.4, 0.2, 0. ,\n",
       "       0.6, 0.2, 0.4, 0.2, 0.4, 0.2, 0.4, 0.2, 0.2, 0.2, 0.2, 0.2, 0.4,\n",
       "       0.6, 0.2, 0.2, 0.2, 0. , 0.8, 0.2, 0.4, 0.4, 0.2, 0.2, 0.4, 0.2,\n",
       "       0.4, 0.4, 0.2, 0.4, 0.2, 0.4, 0.2, 0.4, 0.4, 0. , 0.2, 0.2, 0.2])"
      ]
     },
     "execution_count": 163,
     "metadata": {},
     "output_type": "execute_result"
    }
   ],
   "source": [
    "np.sum(y,axis=1) / 5"
   ]
  },
  {
   "cell_type": "code",
   "execution_count": 165,
   "metadata": {},
   "outputs": [
    {
     "data": {
      "text/plain": [
       "(208, 60)"
      ]
     },
     "execution_count": 165,
     "metadata": {},
     "output_type": "execute_result"
    }
   ],
   "source": [
    "X.shape"
   ]
  },
  {
   "cell_type": "code",
   "execution_count": 148,
   "metadata": {},
   "outputs": [],
   "source": [
    "n_classes = len(np.unique(y_test))\n",
    "budget = 5*n_classes\n",
    "\n",
    "n_iterations = len(X_test) // budget\n",
    "\n",
    "query_strategy = margin_qs\n",
    "classifier = GaussianNB()"
   ]
  },
  {
   "cell_type": "code",
   "execution_count": 149,
   "metadata": {},
   "outputs": [],
   "source": [
    "idx = [i for l in [rng.choice(np.where(y_train==c)[0],5)\n",
    "\t\t\t\t    for c in np.unique(y_train)] for i in l]\n",
    "\n",
    "mask = np.ones(len(X_train), dtype=bool)\n",
    "mask[idx] = False\n",
    "\n",
    "p = np.arange(len(idx))\n",
    "rng.shuffle(p)\n",
    "X_DL = X_train[idx][p]\n",
    "y_DL = y_train[idx][p]\n",
    "\n",
    "p = np.arange(sum(mask))\n",
    "rng.shuffle(p)\n",
    "X_DP =  X_train[mask][p]\n",
    "y_DP = y_train[mask][p]"
   ]
  },
  {
   "cell_type": "code",
   "execution_count": 150,
   "metadata": {},
   "outputs": [
    {
     "name": "stdout",
     "output_type": "stream",
     "text": [
      "Iteration: 0. Accuracy: 0.5454545454545454\n",
      "Iteration: 10. Accuracy: 0.7305194805194806\n",
      "Iteration: 20. Accuracy: 0.7532467532467533\n"
     ]
    }
   ],
   "source": [
    "epm = ErrorProbsModel(n_classes=n_classes, random_state=12345)\n",
    "\n",
    "def select_annotator(X, y):\n",
    "\tepm.fit(X, y)\n",
    "\tperformances = epm.predict(X)\n",
    "\n",
    "\t\n",
    "\tpass\n",
    "\n",
    "def select_instances(n, classifier, query_strategy, X_DP, y_DP, X_DL, y_DL):\n",
    "\t\n",
    "\tidx = query_strategy(n, classifier, X_DP, y_DP)\n",
    "\n",
    "\tmask = np.ones(len(X_DP), dtype=bool)\n",
    "\tmask[idx] = False\n",
    "\n",
    "\tX_DL = np.append(X_DL, X_DP[idx], axis=0)\n",
    "\ty_DL = np.append(y_DL, y_DP[idx])\n",
    "\n",
    "\tX_DP = X_DP[mask]\n",
    "\ty_DP = y_DP[mask]\n",
    "\n",
    "\treturn X_DP, y_DP, X_DL, y_DL\n",
    "\n",
    "def margin_qs(n, classifier, X, y):\n",
    "\n",
    "\tp = classifier.predict_proba(X)\n",
    "\tinstances_idx = np.argsort(np.diff(np.sort(p, axis=1))[:,-1])[:n]\n",
    "\n",
    "\treturn instances_idx\n",
    "\n",
    "accuracies = []\n",
    "\n",
    "for i in range(n_iterations):\n",
    "\n",
    "\tclassifier.fit(X_DL, y_DL)\n",
    "\t\n",
    "\taccuracy = eval_classifier(classifier, X_test, y_test)\n",
    "\n",
    "\taccuracies.append(accuracy)\n",
    "\n",
    "\tif not i % 10:\n",
    "\t\tprint(f'Iteration: {i}. Accuracy: {accuracy}')\n",
    "\n",
    "\tX_DP, y_DP, X_DL, y_DL = select_instances(budget, classifier, query_strategy, X_DP, y_DP, X_DL, y_DL)"
   ]
  },
  {
   "cell_type": "code",
   "execution_count": 151,
   "metadata": {},
   "outputs": [
    {
     "data": {
      "text/plain": [
       "[<matplotlib.lines.Line2D at 0x7f5f894eba40>]"
      ]
     },
     "execution_count": 151,
     "metadata": {},
     "output_type": "execute_result"
    },
    {
     "data": {
      "image/png": "[encoded data removed]",
      "text/plain": [
       "<Figure size 640x480 with 1 Axes>"
      ]
     },
     "metadata": {},
     "output_type": "display_data"
    }
   ],
   "source": [
    "from matplotlib import pyplot as plt\n",
    "\n",
    "plt.plot(accuracies[:])"
   ]
  },
  {
   "cell_type": "code",
   "execution_count": 152,
   "metadata": {},
   "outputs": [
    {
     "data": {
      "text/plain": [
       "(308, 8)"
      ]
     },
     "execution_count": 152,
     "metadata": {},
     "output_type": "execute_result"
    }
   ],
   "source": [
    "X_test.shape"
   ]
  },
  {
   "cell_type": "code",
   "execution_count": 153,
   "metadata": {},
   "outputs": [
    {
     "data": {
      "image/png": "[encoded data removed]",
      "text/plain": [
       "<Figure size 640x480 with 1 Axes>"
      ]
     },
     "metadata": {},
     "output_type": "display_data"
    }
   ],
   "source": [
    "import matplotlib.pyplot as plt\n",
    "\n",
    "from sklearn.datasets import make_classification\n",
    "\n",
    "from sklearn.model_selection import train_test_split\n",
    "\n",
    "from sklearn.linear_model import LogisticRegression\n",
    "\n",
    "from sklearn.calibration import CalibrationDisplay\n",
    "\n",
    "disp = CalibrationDisplay.from_estimator(classifier, X_test, y_test)\n",
    "plt.show()"
   ]
  },
  {
   "cell_type": "code",
   "execution_count": 154,
   "metadata": {},
   "outputs": [
    {
     "data": {
      "image/png": "[encoded data removed]",
      "text/plain": [
       "<Figure size 640x480 with 1 Axes>"
      ]
     },
     "metadata": {},
     "output_type": "display_data"
    }
   ],
   "source": [
    "plt.hist(\n",
    "\tdisp.y_prob,\n",
    "\trange=(0,1),\n",
    "\tbins=10,\n",
    "\t)\n",
    "plt.show()"
   ]
  },
  {
   "cell_type": "code",
   "execution_count": null,
   "metadata": {},
   "outputs": [],
   "source": []
  }
 ],
 "metadata": {
  "kernelspec": {
   "display_name": "base",
   "language": "python",
   "name": "python3"
  },
  "language_info": {
   "codemirror_mode": {
    "name": "ipython",
    "version": 3
   },
   "file_extension": ".py",
   "mimetype": "text/x-python",
   "name": "python",
   "nbconvert_exporter": "python",
   "pygments_lexer": "ipython3",
   "version": "3.12.3"
  }
 },
 "nbformat": 4,
 "nbformat_minor": 2
}
